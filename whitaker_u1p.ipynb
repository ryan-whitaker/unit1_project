{
 "cells": [
  {
   "cell_type": "code",
   "execution_count": null,
   "metadata": {},
   "outputs": [],
   "source": [
    "#Unit 1 Project\n",
    "\n",
    "#By Cody \"Ryan\" Whitaker"
   ]
  },
  {
   "cell_type": "code",
   "execution_count": 1,
   "metadata": {},
   "outputs": [],
   "source": [
    "#Challenge 1: Largest Palindrome\n",
    "\n",
    "#A palindromic number reads the same both ways. For example, 1234321 is a palindrome. \n",
    "#The largest palindrome made from the product of two two-digit numbers is 9009 = 91 × 99. \n",
    "#Find the largest palindrome made from the product of two three-digit numbers."
   ]
  },
  {
   "cell_type": "code",
   "execution_count": 21,
   "metadata": {},
   "outputs": [],
   "source": [
    "#Setting variables\n",
    "result = 0\n",
    "\n",
    "i = 0\n",
    "\n",
    "num_a = list(range(100,999))\n",
    "num_b = list(range(100,999))\n",
    "\n",
    "new_list = []"
   ]
  },
  {
   "cell_type": "code",
   "execution_count": 22,
   "metadata": {},
   "outputs": [],
   "source": [
    "#Appending numbers multiplied from num_a and num_b into new_list variable\n",
    "for i in range(len(num_a)):\n",
    "    for j in range(len(num_b)):\n",
    "        new_list.append(num_a[i] * num_b[j])"
   ]
  },
  {
   "cell_type": "code",
   "execution_count": 23,
   "metadata": {},
   "outputs": [],
   "source": [
    "#Creating palindrome function\n",
    "def palindrome(num):\n",
    "    return str(num) == str(num)[::-1]\n",
    "\n",
    "#Executing palindrome function with new_list numbers\n",
    "for i in range(len(new_list)):\n",
    "    if palindrome(new_list[i]) == True:\n",
    "        if new_list[i] > result:\n",
    "            result = new_list[i]"
   ]
  },
  {
   "cell_type": "code",
   "execution_count": 40,
   "metadata": {},
   "outputs": [
    {
     "name": "stdout",
     "output_type": "stream",
     "text": [
      "906609 is the largest palindrome.\n"
     ]
    }
   ],
   "source": [
    "#Printing results\n",
    "print(f'{result} is the largest palindrome.')"
   ]
  },
  {
   "cell_type": "code",
   "execution_count": 25,
   "metadata": {},
   "outputs": [],
   "source": [
    "#Challenge 2: Summation of Primes\n",
    "\n",
    "#The sum of the primes below 10 is 2 + 3 + 5 + 7 = 17. \n",
    "#Find the sum of all the primes below 2,000."
   ]
  },
  {
   "cell_type": "code",
   "execution_count": 46,
   "metadata": {},
   "outputs": [],
   "source": [
    "#Creating empty variable to store primes.\n",
    "primes = []\n",
    "\n",
    "#Automatically assigning True values to a\n",
    "for a in range(2, 2000):\n",
    "    is_prime = True\n",
    "    #Testing actual prime numbers of previous range\n",
    "    for b in range(2, a):\n",
    "        if a % b == 0:\n",
    "            is_prime = False\n",
    "    #Appending empty list of variable\n",
    "    if is_prime:\n",
    "        primes.append(a)"
   ]
  },
  {
   "cell_type": "code",
   "execution_count": 3,
   "metadata": {},
   "outputs": [
    {
     "data": {
      "text/plain": [
       "[2, 3, 5, 7, 11, 13, 17, 19, 23, 29, 31, 37, 41, 43, 47, 53, 59, 61, 67, 71]"
      ]
     },
     "execution_count": 3,
     "metadata": {},
     "output_type": "execute_result"
    }
   ],
   "source": [
    "#Checking list\n",
    "primes[0:20]"
   ]
  },
  {
   "cell_type": "code",
   "execution_count": 4,
   "metadata": {},
   "outputs": [
    {
     "data": {
      "text/plain": [
       "277050"
      ]
     },
     "execution_count": 4,
     "metadata": {},
     "output_type": "execute_result"
    }
   ],
   "source": [
    "#Adding numbers from primes\n",
    "\n",
    "sum = 0\n",
    "\n",
    "for i in range(len(primes)):\n",
    "    sum += primes[i]\n",
    "\n",
    "#Checking sum\n",
    "sum"
   ]
  },
  {
   "cell_type": "code",
   "execution_count": 30,
   "metadata": {},
   "outputs": [],
   "source": [
    "#Challenge 3: Multiples of 3 and 5\n",
    "\n",
    "#If we list all of the natural numbers below 10 that are multiples of 3 or 5, we get 3, 5, 6, and 9. \n",
    "#The sum of these multiples is 23. Find the sum of all the multiples of 3 and 5 below 1,000."
   ]
  },
  {
   "cell_type": "code",
   "execution_count": 31,
   "metadata": {},
   "outputs": [],
   "source": [
    "#Setting variable to add multiples of 3 and 5\n",
    "total = 0\n",
    "\n",
    "#Adding multiples of 3 and 5 into total variable\n",
    "for i in range(1000):\n",
    "    if ((i % 3) == 0) or ((i % 5) == 0):\n",
    "        total += i"
   ]
  },
  {
   "cell_type": "code",
   "execution_count": 32,
   "metadata": {},
   "outputs": [
    {
     "data": {
      "text/plain": [
       "233168"
      ]
     },
     "execution_count": 32,
     "metadata": {},
     "output_type": "execute_result"
    }
   ],
   "source": [
    "#Checking results\n",
    "total"
   ]
  },
  {
   "cell_type": "code",
   "execution_count": 33,
   "metadata": {},
   "outputs": [],
   "source": [
    "#Challenge 4: String Compressor\n",
    "\n",
    "#Write a function to perform basic string compression using the counts of repeated characters. (This is called run-length encoding.) \n",
    "#For example, the string \"aabcccccaaa\" would become a2b1c5a3. \n",
    "#If the “compressed” string would not become smaller than the original string, your method should return the original string. \n",
    "#You can assume the string has only uppercase and lowercase letters (a–z). \n",
    "#Specify whether your solution is case sensitive or case insensitive and what you would need to change to make it the other."
   ]
  },
  {
   "cell_type": "code",
   "execution_count": 41,
   "metadata": {},
   "outputs": [
    {
     "name": "stdin",
     "output_type": "stream",
     "text": [
      "Please enter a string... aabbAAcca\n"
     ]
    }
   ],
   "source": [
    "#Setting variables: comp = compressed, char = characters, count, and a value field (val) to enter a string\n",
    "comp = ''\n",
    "char = ''\n",
    "count = 0\n",
    "\n",
    "val = input(\"Please enter a string...\")"
   ]
  },
  {
   "cell_type": "code",
   "execution_count": 42,
   "metadata": {},
   "outputs": [],
   "source": [
    "#Setting variable\n",
    "i = 0\n",
    "\n",
    "#Iterating through the string and counting each occurrence of case sensitive characters\n",
    "for i in range(len(val)):\n",
    "    if i == len(val):\n",
    "        comp = comp + char\n",
    "        comp = comp + str(count) \n",
    "    if i == 0:\n",
    "        char = val[i] \n",
    "    if val[i] == char:\n",
    "        count += 1\n",
    "    else:\n",
    "        if count > 0:\n",
    "            comp = comp + char\n",
    "            comp = comp + str(count)\n",
    "            char = val[i]\n",
    "            count = 1\n",
    "if(count > 1):\n",
    "    comp = comp + char\n",
    "    comp = comp + str(count)"
   ]
  },
  {
   "cell_type": "code",
   "execution_count": 43,
   "metadata": {},
   "outputs": [
    {
     "data": {
      "text/plain": [
       "'a2b2A2c2'"
      ]
     },
     "execution_count": 43,
     "metadata": {},
     "output_type": "execute_result"
    }
   ],
   "source": [
    "#Checking results\n",
    "comp"
   ]
  },
  {
   "cell_type": "code",
   "execution_count": 38,
   "metadata": {},
   "outputs": [],
   "source": [
    "#Challenge 5: FizzBuzz\n",
    "\n",
    "#Write a program that prints all of the numbers from 1 to 100. \n",
    "#For multiples of 3, instead of the number, print \"Fizz;\" for multiples of 5, print \"Buzz.\" \n",
    "#For numbers that are multiples of both 3 and 5, print \"FizzBuzz.\""
   ]
  },
  {
   "cell_type": "code",
   "execution_count": 39,
   "metadata": {},
   "outputs": [
    {
     "name": "stdout",
     "output_type": "stream",
     "text": [
      "1\n",
      "2\n",
      "Fizz\n",
      "4\n",
      "Buzz\n",
      "Fizz\n",
      "7\n",
      "8\n",
      "Fizz\n",
      "Buzz\n",
      "11\n",
      "Fizz\n",
      "13\n",
      "14\n",
      "FizzBuzz\n",
      "16\n",
      "17\n",
      "Fizz\n",
      "19\n",
      "Buzz\n",
      "Fizz\n",
      "22\n",
      "23\n",
      "Fizz\n",
      "Buzz\n",
      "26\n",
      "Fizz\n",
      "28\n",
      "29\n",
      "FizzBuzz\n",
      "31\n",
      "32\n",
      "Fizz\n",
      "34\n",
      "Buzz\n",
      "Fizz\n",
      "37\n",
      "38\n",
      "Fizz\n",
      "Buzz\n",
      "41\n",
      "Fizz\n",
      "43\n",
      "44\n",
      "FizzBuzz\n",
      "46\n",
      "47\n",
      "Fizz\n",
      "49\n",
      "Buzz\n",
      "Fizz\n",
      "52\n",
      "53\n",
      "Fizz\n",
      "Buzz\n",
      "56\n",
      "Fizz\n",
      "58\n",
      "59\n",
      "FizzBuzz\n",
      "61\n",
      "62\n",
      "Fizz\n",
      "64\n",
      "Buzz\n",
      "Fizz\n",
      "67\n",
      "68\n",
      "Fizz\n",
      "Buzz\n",
      "71\n",
      "Fizz\n",
      "73\n",
      "74\n",
      "FizzBuzz\n",
      "76\n",
      "77\n",
      "Fizz\n",
      "79\n",
      "Buzz\n",
      "Fizz\n",
      "82\n",
      "83\n",
      "Fizz\n",
      "Buzz\n",
      "86\n",
      "Fizz\n",
      "88\n",
      "89\n",
      "FizzBuzz\n",
      "91\n",
      "92\n",
      "Fizz\n",
      "94\n",
      "Buzz\n",
      "Fizz\n",
      "97\n",
      "98\n",
      "Fizz\n",
      "Buzz\n"
     ]
    }
   ],
   "source": [
    "j = 0\n",
    "\n",
    "#Renaming variables to either \"Fizz\", \"Buzz, or \"FizzBuzz\"\n",
    "for j in range(1,101):\n",
    "    if (j % 3 == 0) and (j % 5 == 0):\n",
    "        print(\"FizzBuzz\")\n",
    "    elif j % 3 == 0:\n",
    "        print(\"Fizz\")\n",
    "    elif j % 5 == 0:\n",
    "        print(\"Buzz\") \n",
    "    else:\n",
    "        print(j)"
   ]
  }
 ],
 "metadata": {
  "kernelspec": {
   "display_name": "Python 3",
   "language": "python",
   "name": "python3"
  },
  "language_info": {
   "codemirror_mode": {
    "name": "ipython",
    "version": 3
   },
   "file_extension": ".py",
   "mimetype": "text/x-python",
   "name": "python",
   "nbconvert_exporter": "python",
   "pygments_lexer": "ipython3",
   "version": "3.7.3"
  }
 },
 "nbformat": 4,
 "nbformat_minor": 2
}
